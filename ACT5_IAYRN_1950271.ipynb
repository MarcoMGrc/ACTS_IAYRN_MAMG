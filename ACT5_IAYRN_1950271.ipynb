{
  "nbformat": 4,
  "nbformat_minor": 0,
  "metadata": {
    "colab": {
      "provenance": []
    },
    "kernelspec": {
      "name": "python3",
      "display_name": "Python 3"
    },
    "language_info": {
      "name": "python"
    }
  },
  "cells": [
    {
      "cell_type": "markdown",
      "source": [
        "# **Actividad 5: Diseño de algoritmos en Python**\n",
        "### Marco Antonio Mejia Garcia\n",
        "###1950271\n",
        "###008 N4 LMV"
      ],
      "metadata": {
        "id": "FFELe4F5blgq"
      }
    },
    {
      "cell_type": "code",
      "execution_count": null,
      "metadata": {
        "colab": {
          "base_uri": "https://localhost:8080/"
        },
        "id": "sMKyxnKFbZUe",
        "outputId": "cf19ac6e-4c86-47df-a208-2a400cdb55ec"
      },
      "outputs": [
        {
          "output_type": "stream",
          "name": "stdout",
          "text": [
            "---------------------------------------------------------\n",
            "\tSaludador\n",
            "---------------------------------------------------------\n",
            "\n",
            "Dime tu nombre: Ana\n",
            "\n",
            "\t------------------------------------\n",
            "\t\tno puedo saludarte  Ana\n",
            "\t------------------------------------\n"
          ]
        }
      ],
      "source": [
        "\"\"\"\n",
        "Desarrolla un algoritmo que le pida al usuario por su nombre y que lo salude con su nombre, excepto si se llama “Ana”, “Juan”, y “Pedro”.\n",
        "\"\"\"\n",
        "print(\"---------------------------------------------------------\")\n",
        "print(\"\\tSaludador\")\n",
        "print(\"---------------------------------------------------------\\n\")\n",
        "nombre = input(\"Dime tu nombre: \")\n",
        "if nombre == \"Ana\" or nombre == \"Juan\" or nombre == \"Pedro\":\n",
        "  print(\"\\n\\t------------------------------------\")\n",
        "  print(\"\\t\\tno puedo saludarte \", nombre)\n",
        "  print(\"\\t------------------------------------\")\n",
        "else:\n",
        "  print(\"\\n\\t--------------------------------\")\n",
        "  print(\"\\t\\tHolaaa\", nombre)\n",
        "  print(\"\\t--------------------------------\")"
      ]
    },
    {
      "cell_type": "code",
      "source": [
        "\"\"\"\n",
        "Desarrolla un algoritmo que por medio de una función, le pida al usuario una lista de N elementos y como resultado invierta el sentido de la lista.\n",
        "\"\"\"\n",
        "print(\"--------------------------------------------------\")\n",
        "print(\"\\tInversor de listas\")\n",
        "print(\"--------------------------------------------------\\n\")\n",
        "n = input(\"Escriba el número de elementos de la lista: \")\n",
        "lis = int(n)\n",
        "lis_x = []\n",
        "for i in range(lis):\n",
        "    lis_x.append(str(input(\"Ingresa cada uno de los datos: \")))\n",
        "print(\"--------------------------------------------------\\n\")\n",
        "lis_x.reverse()\n",
        "print(lis_x)"
      ],
      "metadata": {
        "colab": {
          "base_uri": "https://localhost:8080/"
        },
        "id": "Xq6dpz7gc77J",
        "outputId": "6a430349-915f-407e-87a4-a41b6ab518f8"
      },
      "execution_count": null,
      "outputs": [
        {
          "output_type": "stream",
          "name": "stdout",
          "text": [
            "--------------------------------------------------\n",
            "\tInversor de listas\n",
            "--------------------------------------------------\n",
            "\n",
            "Escriba el número de elementos de la lista: 5\n",
            "Ingresa cada uno de los datos: 1\n",
            "Ingresa cada uno de los datos: 2\n",
            "Ingresa cada uno de los datos: 3\n",
            "Ingresa cada uno de los datos: 4\n",
            "Ingresa cada uno de los datos: 5\n",
            "--------------------------------------------------\n",
            "\n",
            "['5', '4', '3', '2', '1']\n"
          ]
        }
      ]
    },
    {
      "cell_type": "code",
      "source": [
        "\"\"\"\n",
        "Desarrolla un algoritmo que le pregunte al usuario cuántos números de la serie de Fibonacci quiere generar y que al final los imprima.\n",
        "\"\"\"\n",
        "def fibonacci():\n",
        "  print(\"------------------------------------------------------\")\n",
        "  print(\"\\t\\tSerie Fibonacci\")\n",
        "  print(\"------------------------------------------------------\\n\")\n",
        "  n1 = int(input(\"\\tIngresa un número entero: \"))\n",
        "  fib = [0, 1]\n",
        "  for i in range(2, n1):\n",
        "    fib.append(fib[-1] + fib[-2])\n",
        "  \"\"\"  if n1 == 1:\n",
        "      fib = [0]\n",
        "    print(\"La serie es: \", fib[:n1])\"\"\"\n",
        "  print(\"---------------------------------------------------------\")\n",
        "  print(f\"los primeros {n1} números de la serie Fibonacci son: \\n\\n\\t\", fib[:n1])\n",
        "  print(\"---------------------------------------------------------\")\n",
        "\n",
        "fibonacci()"
      ],
      "metadata": {
        "colab": {
          "base_uri": "https://localhost:8080/"
        },
        "id": "aUAsVFskek5o",
        "outputId": "3766e696-480f-435a-ae35-b4739ee88773"
      },
      "execution_count": null,
      "outputs": [
        {
          "output_type": "stream",
          "name": "stdout",
          "text": [
            "------------------------------------------------------\n",
            "\t\tSerie Fibonacci\n",
            "------------------------------------------------------\n",
            "\n",
            "\tIngresa un número entero: 10\n",
            "---------------------------------------------------------\n",
            "los primeros 10 números de la serie Fibonacci son: \n",
            "\n",
            "\t [0, 1, 1, 2, 3, 5, 8, 13, 21, 34]\n",
            "---------------------------------------------------------\n"
          ]
        }
      ]
    },
    {
      "cell_type": "code",
      "source": [
        "\"\"\"\n",
        "Juego de adivinar el número: Crea un programa que genere un número aleatorio\n",
        "entre 1 y 100, y luego le pida al usuario que adivine el número. El programa debe proporcionar\n",
        "pistas al usuario si el número es mayor o menor que el número objetivo, y seguir\n",
        "solicitando un nuevo intento hasta que el usuario adivine correctamente.\n",
        "\"\"\"\n",
        "#def lista()\n",
        "import random\n",
        "y = random.randrange(0, 101, 1)\n",
        "print(\"----------------------------------------------\")\n",
        "print(\"\\tAdivina el número que pienso\")\n",
        "while x != y:\n",
        "  print(\"----------------------------------------------\")\n",
        "  x = int(input())\n",
        "  if x > y:\n",
        "    print(\"El número que pienso es menor que\", x)\n",
        "  elif x < y:\n",
        "    print(\"El número que pienso es mayor que\", x)\n",
        "  elif x == y:\n",
        "    print(\"\\n\\t----------------------------------\")\n",
        "    print(\"\\t\\tADIVINASTEEE!!!!\")\n",
        "    print(\"\\t\\tmi número era \", x)\n",
        "    print(\"\\t----------------------------------\")"
      ],
      "metadata": {
        "colab": {
          "base_uri": "https://localhost:8080/"
        },
        "id": "OoS7dAlOexdR",
        "outputId": "bc0e7ed8-c81d-4516-84cc-270c3c932999"
      },
      "execution_count": null,
      "outputs": [
        {
          "output_type": "stream",
          "name": "stdout",
          "text": [
            "----------------------------------------------\n",
            "\tAdivina el número que pienso\n",
            "----------------------------------------------\n",
            "50\n",
            "El número que pienso es mayor que 50\n",
            "----------------------------------------------\n",
            "75\n",
            "El número que pienso es menor que 75\n",
            "----------------------------------------------\n",
            "60\n",
            "El número que pienso es mayor que 60\n",
            "----------------------------------------------\n",
            "70\n",
            "El número que pienso es mayor que 70\n",
            "----------------------------------------------\n",
            "73\n",
            "\n",
            "\t----------------------------------\n",
            "\t\tADIVINASTEEE!!!!\n",
            "\t\tmi número era  73\n",
            "\t----------------------------------\n"
          ]
        }
      ]
    },
    {
      "cell_type": "code",
      "source": [
        "\"\"\"\n",
        "Ejercicio de cálculo de números primos en un rango dado: Escribe un programa que solicite\n",
        "al usuario un rango de números y muestre todos los números primos dentro de ese rango.\n",
        "\"\"\"\n",
        "def primo(num):\n",
        "  if num < 2:\n",
        "      return False\n",
        "  for i in range(2, int(num**0.5) + 1):\n",
        "      if num % i == 0:\n",
        "          return False\n",
        "  return True\n",
        "\n",
        "def pregprimos():\n",
        "  print(\"------------------------------------------------------\")\n",
        "  print(\"\\t\\tCalculo de números Primos\")\n",
        "  print(\"------------------------------------------------------\\n\")\n",
        "  ini = int(input(\"\\tIngresa el número de inicio del rango: \"))\n",
        "  fin = int(input(\"\\tIngresa el número de fin del rango: \"))\n",
        "\n",
        "  primos = []\n",
        "  for num in range(ini, fin + 1):\n",
        "    if primo(num):\n",
        "      primos.append(num)\n",
        "  print(\"------------------------------------------------------\\n\")\n",
        "  print(f\"\\tNúmeros primos en el rango de {ini} a {fin}:\\n\\n {primos}\")\n",
        "  print(\"------------------------------------------------------\")\n",
        "\n",
        "pregprimos()"
      ],
      "metadata": {
        "colab": {
          "base_uri": "https://localhost:8080/"
        },
        "id": "HLR9jcq3hWOw",
        "outputId": "73c7d082-415f-496b-e813-91caa1330593"
      },
      "execution_count": null,
      "outputs": [
        {
          "output_type": "stream",
          "name": "stdout",
          "text": [
            "------------------------------------------------------\n",
            "\t\tCalculo de números Primos\n",
            "------------------------------------------------------\n",
            "\n",
            "\tIngresa el número de inicio del rango: 10\n",
            "\tIngresa el número de fin del rango: 30\n",
            "------------------------------------------------------\n",
            "\n",
            "\tNúmeros primos en el rango de 10 a 30:\n",
            "\n",
            " [11, 13, 17, 19, 23, 29]\n",
            "------------------------------------------------------\n"
          ]
        }
      ]
    },
    {
      "cell_type": "code",
      "source": [
        "\"\"\"\n",
        "Ejercicio de implementación de una calculadora básica utilizando funciones: Escribe un programa que solicite al usuario dos números y\n",
        "realice operaciones básicas como suma, resta, multiplicación y división utilizando funciones separadas para cada operación.\n",
        "\"\"\"\n",
        "def datos():\n",
        "  global n1, n2\n",
        "  n1 = int(input(\"Escribe el primer número: \"))\n",
        "  n2 = int(input(\"Escribe el segundo número: \"))\n",
        "\n",
        "def suma(n1, n2):\n",
        "\n",
        "  print(n1, \" + \", n2, \" = \", n1+n2)\n",
        "\n",
        "def resta(n1, n2):\n",
        "  print(n1, \" - \", n2, \" = \", n1-n2)\n",
        "\n",
        "def multi(n1, n2):\n",
        "  print(n1, \" * \", n2, \" = \", n1*n2)\n",
        "\n",
        "def div(n1, n2):\n",
        "  if n2==0:\n",
        "    print(\"\\n\\t**********************************************************\")\n",
        "    print(\"\\t\\tERROR, NO ES POSIBLE REALIZAR LA OPERACIÓN\")\n",
        "    print(\"\\t**********************************************************1\")\n",
        "  else:\n",
        "    print(n1, \" / \", n2, \" = \", n1/n2)\n",
        "\n",
        "while True:\n",
        "  print(\"\"\"\n",
        "    \\n\\n\n",
        "    ---------------------------\n",
        "    \\tCalculadora\n",
        "    ---------------------------\n",
        "      Teclee una opción:\n",
        "      1. Suma\n",
        "      2. Resta\n",
        "      3. Multiplicación\n",
        "      4. División\n",
        "      5. Salir\n",
        "    ---------------------------\\n\n",
        "    \"\"\")\n",
        "  op = int(input())\n",
        "  if op == 1:\n",
        "    print(\"\\t\\t----------------------\")\n",
        "    print(\"\\t\\t\\tSUMA\")\n",
        "    print(\"\\t\\t----------------------\")\n",
        "    datos()\n",
        "    suma(n1, n2)\n",
        "  elif op == 2:\n",
        "    print(\"\\t\\t----------------------\")\n",
        "    print(\"\\t\\t\\tRESTA\")\n",
        "    print(\"\\t\\t----------------------\")\n",
        "    datos()\n",
        "    resta(n1, n2)\n",
        "  elif op == 3:\n",
        "    print(\"\\t\\t------------------------------\")\n",
        "    print(\"\\t\\t\\tMULTIPLICACIÓN\")\n",
        "    print(\"\\t\\t------------------------------\")\n",
        "    datos()\n",
        "    multi(n1, n2)\n",
        "  elif op == 4:\n",
        "    print(\"\\t\\t-------------------------\")\n",
        "    print(\"\\t\\t\\tDIVISIÓN\")\n",
        "    print(\"\\t\\t-------------------------\")\n",
        "    datos()\n",
        "    div(n1, n2)\n",
        "  elif op == 5:\n",
        "    print(\"\\t\\t------------------------------\")\n",
        "    print(\"\\t\\t\\tVuelve pronto!!!\")\n",
        "    print(\"\\t\\t------------------------------\")\n",
        "    break\n",
        "  elif  op != 1 or op != 2 or op != 3 or op != 4 or op != 5:\n",
        "    print(\"ingrese una opción válida\")"
      ],
      "metadata": {
        "colab": {
          "base_uri": "https://localhost:8080/"
        },
        "id": "EVwPDwpfhrUu",
        "outputId": "14ecb54e-8320-4f71-dd01-9cbaf592f7cc"
      },
      "execution_count": null,
      "outputs": [
        {
          "output_type": "stream",
          "name": "stdout",
          "text": [
            "\n",
            "    \n",
            "\n",
            "\n",
            "    ---------------------------\n",
            "    \tCalculadora\n",
            "    ---------------------------\n",
            "      Teclee una opción:\n",
            "      1. Suma\n",
            "      2. Resta\n",
            "      3. Multiplicación\n",
            "      4. División\n",
            "      5. Salir\n",
            "    ---------------------------\n",
            "\n",
            "    \n",
            "1\n",
            "\t\t----------------------\n",
            "\t\t\tSUMA\n",
            "\t\t----------------------\n",
            "Escribe el primer número: 5\n",
            "Escribe el segundo número: 10\n",
            "5  +  10  =  15\n",
            "\n",
            "    \n",
            "\n",
            "\n",
            "    ---------------------------\n",
            "    \tCalculadora\n",
            "    ---------------------------\n",
            "      Teclee una opción:\n",
            "      1. Suma\n",
            "      2. Resta\n",
            "      3. Multiplicación\n",
            "      4. División\n",
            "      5. Salir\n",
            "    ---------------------------\n",
            "\n",
            "    \n",
            "4\n",
            "\t\t-------------------------\n",
            "\t\t\tDIVISIÓN\n",
            "\t\t-------------------------\n",
            "Escribe el primer número: 5\n",
            "Escribe el segundo número: 0\n",
            "\n",
            "\t**********************************************************\n",
            "\t\tERROR, NO ES POSIBLE REALIZAR LA OPERACIÓN\n",
            "\t**********************************************************1\n",
            "\n",
            "    \n",
            "\n",
            "\n",
            "    ---------------------------\n",
            "    \tCalculadora\n",
            "    ---------------------------\n",
            "      Teclee una opción:\n",
            "      1. Suma\n",
            "      2. Resta\n",
            "      3. Multiplicación\n",
            "      4. División\n",
            "      5. Salir\n",
            "    ---------------------------\n",
            "\n",
            "    \n",
            "5\n",
            "\t\t------------------------------\n",
            "\t\t\tVuelve pronto!!!\n",
            "\t\t------------------------------\n"
          ]
        }
      ]
    }
  ]
}